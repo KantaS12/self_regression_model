{
 "cells": [
  {
   "cell_type": "markdown",
   "metadata": {},
   "source": [
    "Linear Regression Model From Scratch\n",
    "(No Sklearn)"
   ]
  },
  {
   "cell_type": "code",
   "execution_count": 1,
   "metadata": {},
   "outputs": [],
   "source": [
    "import numpy as np\n",
    "import matplotlib.pyplot as plt\n",
    "import yfinance as yf\n",
    "import pandas as pd\n",
    "import random \n",
    "import pickle"
   ]
  },
  {
   "cell_type": "markdown",
   "metadata": {},
   "source": [
    "Main Ideas we need to cover:\n",
    "1) Use least-squares to fit a line to the data\n",
    "2) Calculate R^2\n",
    "3) Calculate a p-value for R^2"
   ]
  },
  {
   "cell_type": "code",
   "execution_count": 2,
   "metadata": {},
   "outputs": [
    {
     "name": "stdout",
     "output_type": "stream",
     "text": [
      "YF.download() has changed argument auto_adjust default to True\n"
     ]
    },
    {
     "name": "stderr",
     "output_type": "stream",
     "text": [
      "[*********************100%***********************]  1 of 1 completed"
     ]
    },
    {
     "name": "stdout",
     "output_type": "stream",
     "text": [
      "Price           Close       High        Low       Open     Volume\n",
      "Ticker           AAPL       AAPL       AAPL       AAPL       AAPL\n",
      "Date                                                             \n",
      "2020-01-02  72.716080  72.776606  71.466820  71.721026  135480400\n",
      "2020-01-03  72.009109  72.771737  71.783954  71.941321  146322800\n",
      "2020-01-06  72.582909  72.621646  70.876075  71.127866  118387200\n",
      "2020-01-07  72.241531  72.849208  72.021215  72.592578  108872000\n",
      "2020-01-08  73.403664  73.706294  71.943774  71.943774  132079200\n"
     ]
    },
    {
     "name": "stderr",
     "output_type": "stream",
     "text": [
      "\n"
     ]
    }
   ],
   "source": [
    "stock = 'AAPL'\n",
    "data = yf.download(stock, start='2020-01-01', end='2025-01-01')\n",
    "print(data.head())"
   ]
  },
  {
   "cell_type": "code",
   "execution_count": 3,
   "metadata": {},
   "outputs": [
    {
     "name": "stdout",
     "output_type": "stream",
     "text": [
      "Simplified Columns: Index(['Close_AAPL', 'High_AAPL', 'Low_AAPL', 'Open_AAPL', 'Volume_AAPL'], dtype='object')\n"
     ]
    }
   ],
   "source": [
    "data.columns = ['_'.join(col).strip() if isinstance(col, tuple) else col for col in data.columns]\n",
    "print(\"Simplified Columns:\", data.columns)"
   ]
  },
  {
   "cell_type": "code",
   "execution_count": 4,
   "metadata": {},
   "outputs": [
    {
     "name": "stdout",
     "output_type": "stream",
     "text": [
      "            Close_AAPL   High_AAPL    Low_AAPL   Open_AAPL  Volume_AAPL  \\\n",
      "Date                                                                      \n",
      "2020-01-03   72.009109   72.771737   71.783954   71.941321    146322800   \n",
      "2020-01-06   72.582909   72.621646   70.876075   71.127866    118387200   \n",
      "2020-01-07   72.241531   72.849208   72.021215   72.592578    108872000   \n",
      "2020-01-08   73.403664   73.706294   71.943774   71.943774    132079200   \n",
      "2020-01-09   74.962791   75.156472   74.132375   74.384158    170108400   \n",
      "...                ...         ...         ...         ...          ...   \n",
      "2024-12-24  257.916443  257.926411  255.009620  255.209412     23234700   \n",
      "2024-12-26  258.735504  259.814335  257.347047  257.906429     27237100   \n",
      "2024-12-27  255.309296  258.415896  252.782075  257.546826     42355300   \n",
      "2024-12-30  251.923019  253.221595  250.474615  251.952985     35557500   \n",
      "2024-12-31  250.144974  253.001833  249.156056  252.162760     39480700   \n",
      "\n",
      "            Returns_AAPL  \n",
      "Date                      \n",
      "2020-01-03     -0.009722  \n",
      "2020-01-06      0.007968  \n",
      "2020-01-07     -0.004703  \n",
      "2020-01-08      0.016087  \n",
      "2020-01-09      0.021240  \n",
      "...                  ...  \n",
      "2024-12-24      0.011478  \n",
      "2024-12-26      0.003176  \n",
      "2024-12-27     -0.013242  \n",
      "2024-12-30     -0.013263  \n",
      "2024-12-31     -0.007058  \n",
      "\n",
      "[1257 rows x 6 columns]\n"
     ]
    }
   ],
   "source": [
    "data['Returns_AAPL'] = data['Close_AAPL'].pct_change()\n",
    "data.dropna(inplace=True)\n",
    "print(data)"
   ]
  },
  {
   "cell_type": "code",
   "execution_count": 5,
   "metadata": {},
   "outputs": [
    {
     "name": "stdout",
     "output_type": "stream",
     "text": [
      "             Open_AAPL   High_AAPL    Low_AAPL  Volume_AAPL\n",
      "Date                                                       \n",
      "2020-01-03   71.941321   72.771737   71.783954    146322800\n",
      "2020-01-06   71.127866   72.621646   70.876075    118387200\n",
      "2020-01-07   72.592578   72.849208   72.021215    108872000\n",
      "2020-01-08   71.943774   73.706294   71.943774    132079200\n",
      "2020-01-09   74.384158   75.156472   74.132375    170108400\n",
      "...                ...         ...         ...          ...\n",
      "2024-12-24  255.209412  257.926411  255.009620     23234700\n",
      "2024-12-26  257.906429  259.814335  257.347047     27237100\n",
      "2024-12-27  257.546826  258.415896  252.782075     42355300\n",
      "2024-12-30  251.952985  253.221595  250.474615     35557500\n",
      "2024-12-31  252.162760  253.001833  249.156056     39480700\n",
      "\n",
      "[1257 rows x 4 columns]\n",
      "Date\n",
      "2020-01-03     72.009109\n",
      "2020-01-06     72.582909\n",
      "2020-01-07     72.241531\n",
      "2020-01-08     73.403664\n",
      "2020-01-09     74.962791\n",
      "                 ...    \n",
      "2024-12-24    257.916443\n",
      "2024-12-26    258.735504\n",
      "2024-12-27    255.309296\n",
      "2024-12-30    251.923019\n",
      "2024-12-31    250.144974\n",
      "Name: Close_AAPL, Length: 1257, dtype: float64\n"
     ]
    }
   ],
   "source": [
    "X= data[['Open_AAPL', 'High_AAPL', 'Low_AAPL', 'Volume_AAPL']]\n",
    "y = data['Close_AAPL']\n",
    "print(X)\n",
    "print(y)"
   ]
  },
  {
   "cell_type": "code",
   "execution_count": 6,
   "metadata": {},
   "outputs": [],
   "source": [
    "X = np.array(X)\n",
    "indices = np.random.permutation(len(X))"
   ]
  },
  {
   "cell_type": "code",
   "execution_count": 7,
   "metadata": {},
   "outputs": [],
   "source": [
    "train_ratio = 0.8\n",
    "split_index = int(len(X)*train_ratio)"
   ]
  },
  {
   "cell_type": "code",
   "execution_count": 8,
   "metadata": {},
   "outputs": [
    {
     "name": "stdout",
     "output_type": "stream",
     "text": [
      "x:train: [[1.96838199e+02 1.98428641e+02 1.94989299e+02 6.68316000e+07]\n",
      " [1.69272914e+02 1.72559774e+02 1.69055109e+02 1.13316400e+08]\n",
      " [1.55274047e+02 1.56655673e+02 1.51583164e+02 1.01696800e+08]\n",
      " ...\n",
      " [2.32099163e+02 2.32957275e+02 2.29045886e+02 4.70709000e+07]\n",
      " [1.33217531e+02 1.41704601e+02 1.32605662e+02 1.13224000e+08]\n",
      " [2.42603257e+02 2.43841901e+02 2.40985041e+02 4.43839000e+07]]\n",
      "x_test: [[1.74302505e+02 1.76287953e+02 1.73835924e+02 5.47644000e+07]\n",
      " [1.33510264e+02 1.34009176e+02 1.31475521e+02 7.30466000e+07]\n",
      " [1.82687385e+02 1.83622970e+02 1.80497727e+02 6.54345000e+07]\n",
      " ...\n",
      " [1.48700387e+02 1.49789411e+02 1.46928265e+02 5.88672000e+07]\n",
      " [7.75414508e+01 7.80840927e+01 7.68625412e+01 1.02688800e+08]\n",
      " [8.95111406e+01 9.01486796e+01 8.84866982e+01 1.14041600e+08]]\n",
      "y_train: [196.92765808 171.83706665 151.70158386 ... 229.59468079 141.11248779\n",
      " 242.74310303]\n",
      "y-test: [174.56060791 132.44398499 182.9959259  171.08335876  75.13225555\n",
      " 147.38897705 246.21928406 124.57496643 180.70672607  76.9165802\n",
      " 184.17036438 163.56053162 140.4929657  152.72428894 171.60719299\n",
      " 171.8271637  120.32359314 151.19973755 123.25831604 117.70417023\n",
      " 190.58573914 166.25494385  83.70513153 140.8918457   70.1415329\n",
      " 166.83076477 122.45838165 177.22879028 171.934021   222.28077698\n",
      " 123.37194061 123.71908569  77.2869873  227.28974915 183.70259094\n",
      "  68.67088318  75.97065735 117.96604156 177.3092804  168.50434875\n",
      " 219.62663269 177.41964722 148.7212677  186.27046204 216.31390381\n",
      " 130.83506775 107.689888   166.27766418  60.24020767 156.25422668\n",
      " 172.73400879 124.75135803 153.27072144 109.48408508 165.36973572\n",
      " 186.50305176 127.88020325 189.52314758  67.60552979 120.37848663\n",
      " 163.37129211 192.42469788 161.69987488 118.57254028 118.17222595\n",
      " 141.01046753 145.87091064 141.97106934 164.56350708  63.69598007\n",
      " 169.39518738 188.29945374 147.42042542 125.25262451 112.4958725\n",
      " 250.14497375 145.37617493 147.00927734 124.90769958 190.41674805\n",
      " 233.61483765  88.76895142  76.73741913 122.3974762   66.31204224\n",
      " 142.63160706 172.61949158 113.61917114 122.34078979  73.40366364\n",
      " 172.49549866 133.46635437 146.31729126 150.73446655 234.48391724\n",
      " 249.51565552 117.47691345 118.95240021  85.58855438 129.6559906\n",
      "  66.33873749 137.14715576 161.68084717 138.32489014 135.35852051\n",
      " 188.23982239  77.19499207 191.99726868 143.1257019   77.68013763\n",
      " 193.66725159 141.08181763 165.03419495 188.55792236 152.5009613\n",
      " 178.53858948  71.0855484  183.50350952 176.1986084  118.74861908\n",
      " 163.40585327 163.57943726 182.53407288 123.57548523 138.28492737\n",
      " 170.35964966 151.32658386 151.85578918 133.89994812 140.16915894\n",
      " 189.26367188 109.9204483   65.03554535 135.84095764 133.05052185\n",
      " 142.19358826 130.67340088 139.35461426  92.93244171 129.15711975\n",
      " 164.51095581 146.01811218 196.3908844  144.79139709 227.76957703\n",
      " 163.10710144 124.3006134  168.32519531 123.63253021 149.00146484\n",
      " 150.73231506 192.29902649 138.76148987 157.03219604 132.42442322\n",
      " 169.85508728 194.14299011  76.64109802 162.12501526 228.53701782\n",
      " 167.37788391 146.83262634 226.01257324 109.02578735 188.81636047\n",
      " 106.06149292 195.21389771 192.26565552 225.27420044  77.0717926\n",
      " 155.15563965 183.32698059 169.79867554 224.25628662 143.21270752\n",
      " 139.99246216  92.80104065 130.84863281 165.06059265  95.12001801\n",
      " 187.95675659 177.66618347  93.62594604  71.14378357  78.73477173\n",
      "  82.44221497 140.36120605 212.53569031 227.52922058 174.18336487\n",
      " 156.75991821 116.06600189 189.23400879 180.30862427 119.49208832\n",
      " 220.36500549  94.67957306 158.05888367 112.92617798 116.05623627\n",
      " 124.84236908 171.86332703 122.90914154 219.12353516 220.42486572\n",
      "  65.12776184  77.16596222  58.46380997 174.9354248  183.29948425\n",
      " 129.60906982 186.43991089 163.90419006 192.06108093  77.66455841\n",
      " 144.18289185 127.53425598 242.38349915 163.58035278 173.91870117\n",
      " 154.11331177 144.10444641 167.98588562 186.32133484 189.08450317\n",
      " 151.46253967 187.96247864 180.85601807 169.2288208  186.25401306\n",
      " 168.78303528  59.91260147 130.83003235 143.82025146 148.67190552\n",
      " 137.89668274 128.59954834 181.45318604 193.33920288 193.51811218\n",
      " 112.09735107 228.36738586 121.05713654 186.98516846 152.175354\n",
      " 189.50224304 163.97633362 226.71073914 215.94422913 146.99755859\n",
      "  77.10101318  88.60105896]\n"
     ]
    }
   ],
   "source": [
    "x_train = X[indices[:split_index]]\n",
    "x_test = X[indices[split_index:]]\n",
    "y_train = np.array(y)[indices[:split_index]]\n",
    "y_test = np.array(y)[indices[split_index:]]\n",
    "\n",
    "print(\"x:train:\", x_train)\n",
    "print(\"x_test:\", x_test)\n",
    "print(\"y_train:\", y_train)\n",
    "print(\"y-test:\", y_test)"
   ]
  },
  {
   "cell_type": "markdown",
   "metadata": {},
   "source": [
    "Preprocessing:"
   ]
  },
  {
   "cell_type": "markdown",
   "metadata": {},
   "source": [
    "PCA (Principal Component Analysis)\n",
    "1: Standardize.\n",
    "2: Covariance Matrix.\n",
    "3. Eigen Decomp.\n",
    "4. Sort Eigenvalues.\n",
    "5. transform."
   ]
  },
  {
   "cell_type": "code",
   "execution_count": 9,
   "metadata": {},
   "outputs": [
    {
     "name": "stdout",
     "output_type": "stream",
     "text": [
      "[[ 0.57560555  0.58477172  0.60034461 -0.67680454]\n",
      " [-0.36922656 -0.3910661  -0.3839654  -0.31499793]\n",
      " [ 0.76981659  0.75407147  0.75514201 -0.46564217]\n",
      " ...\n",
      " [-0.0173921  -0.02684199 -0.0248968  -0.59560971]\n",
      " [-1.66557924 -1.68187472 -1.65298317  0.27162425]\n",
      " [-1.38833663 -1.40341161 -1.38287776  0.49629732]]\n"
     ]
    }
   ],
   "source": [
    "mean = np.mean(x_test, axis=0)\n",
    "std = np.std(x_test, axis=0)\n",
    "x_test_standard = (x_test - mean) / std\n",
    "x_train_standard = (x_train - mean) / std\n",
    "print(x_test_standard)"
   ]
  },
  {
   "cell_type": "markdown",
   "metadata": {},
   "source": [
    "What this is doing is we're using z-score formula which is \n",
    "z = (x-(mean))/std. "
   ]
  },
  {
   "cell_type": "code",
   "execution_count": 10,
   "metadata": {},
   "outputs": [
    {
     "name": "stdout",
     "output_type": "stream",
     "text": [
      "[[ 1.00398406  1.00355776  1.00363809 -0.69146841]\n",
      " [ 1.00355776  1.00398406  1.00354175 -0.68349201]\n",
      " [ 1.00363809  1.00354175  1.00398406 -0.69470696]\n",
      " [-0.69146841 -0.68349201 -0.69470696  1.00398406]]\n"
     ]
    }
   ],
   "source": [
    "cov_matrix = np.cov(x_test_standard, rowvar=False)\n",
    "print(cov_matrix)"
   ]
  },
  {
   "cell_type": "markdown",
   "metadata": {},
   "source": [
    "We now make a covariance matrix which tells us the magnitude/direction of these standardized values.\n",
    "\n",
    "Facts about covariance matrixes:\n",
    "they're nxn symmetric\n",
    "the diagonal entries are all equal\n",
    "upper and lower triangular portions are also equal\n",
    "mainly looking at the sign of the numbers\n",
    "\n",
    "Negative: One increases / other decreasing (inversely correlated)\n",
    "Positive: Both increase / decreases (correlated)"
   ]
  },
  {
   "cell_type": "code",
   "execution_count": 11,
   "metadata": {},
   "outputs": [],
   "source": [
    "eigenvalues, eigenvectors = np.linalg.eig(cov_matrix)"
   ]
  },
  {
   "cell_type": "markdown",
   "metadata": {},
   "source": [
    "Now we're using lin-alg to find the eigenvalues/ eigenvectors which they're \"n\" sets for the amount of dim the matrix has. \n",
    "\n",
    "We're basically finding out how much varience on the data by calculating the eigen stuff."
   ]
  },
  {
   "cell_type": "code",
   "execution_count": 12,
   "metadata": {},
   "outputs": [
    {
     "name": "stdout",
     "output_type": "stream",
     "text": [
      "[3.56801923e+00 4.47232681e-01 3.67533041e-04 3.16805725e-04]\n"
     ]
    }
   ],
   "source": [
    "sorted_indices = np.argsort(eigenvalues)[::-1]\n",
    "sorted_eigenvalues = eigenvalues[sorted_indices]\n",
    "sorted_eigenvectors = eigenvectors[:, sorted_indices]\n",
    "print(sorted_eigenvalues)"
   ]
  },
  {
   "cell_type": "markdown",
   "metadata": {},
   "source": [
    "We then sorted it in increasing order."
   ]
  },
  {
   "cell_type": "code",
   "execution_count": 13,
   "metadata": {},
   "outputs": [],
   "source": [
    "m = 2\n",
    "top_eigenvectors = sorted_eigenvectors[:, :m]\n",
    "x_test_reduced = np.dot(x_test_standard, top_eigenvectors)\n",
    "x_train_reduced = np.dot(x_train_standard, top_eigenvectors)"
   ]
  },
  {
   "cell_type": "markdown",
   "metadata": {},
   "source": [
    "We then reduced to a 1 dimensional array and then we took the dotproduct of the two vectors which results us with new data on a new plane."
   ]
  },
  {
   "cell_type": "markdown",
   "metadata": {},
   "source": [
    "Normal Equation (Without Gradient Descent):"
   ]
  },
  {
   "cell_type": "code",
   "execution_count": 14,
   "metadata": {},
   "outputs": [
    {
     "name": "stdout",
     "output_type": "stream",
     "text": [
      "Bias: 149.5999096857082\n",
      "Coeff: [ 22.61601802 -10.46327046]\n"
     ]
    }
   ],
   "source": [
    "X = np.hstack([np.ones((x_train_reduced.shape[0], 1)),x_train_reduced])\n",
    "w = np.linalg.inv(X.T @ X) @ X.T @ y_train\n",
    "\n",
    "bias = w[0]\n",
    "coeff = w[1:]\n",
    "print(\"Bias:\", bias)\n",
    "print(\"Coeff:\", coeff)"
   ]
  },
  {
   "cell_type": "markdown",
   "metadata": {},
   "source": [
    "We used our preprocessed data (1D and normalized) to stack it hstack (horizontal stacking) then inverting it. This means we're reconstructing the original data from our reduced-dimension array."
   ]
  },
  {
   "cell_type": "code",
   "execution_count": 15,
   "metadata": {},
   "outputs": [
    {
     "name": "stdout",
     "output_type": "stream",
     "text": [
      "Mean Squared Error: 1.5576183444373\n"
     ]
    }
   ],
   "source": [
    "y_pred = np.dot(x_test_reduced, w[1:]) + w[0]\n",
    "mse = np.mean((y_test - y_pred) ** 2)\n",
    "print(\"Mean Squared Error:\", mse)"
   ]
  },
  {
   "cell_type": "markdown",
   "metadata": {},
   "source": [
    "We now found our mean squared error. Is this good compared to our target value (y)?"
   ]
  },
  {
   "cell_type": "code",
   "execution_count": 16,
   "metadata": {},
   "outputs": [
    {
     "name": "stdout",
     "output_type": "stream",
     "text": [
      "Range of y: 204.28560638427734\n",
      "Standard Deviation of y: 41.67867806180775\n"
     ]
    }
   ],
   "source": [
    "range_y = np.max(y_train) - np.min(y_train)\n",
    "std_y = np.std(y_train)\n",
    "\n",
    "print(f\"Range of y: {range_y}\")\n",
    "print(f\"Standard Deviation of y: {std_y}\")"
   ]
  },
  {
   "cell_type": "code",
   "execution_count": 17,
   "metadata": {},
   "outputs": [
    {
     "name": "stdout",
     "output_type": "stream",
     "text": [
      "R^2 Score: 0.9991659141113155\n"
     ]
    }
   ],
   "source": [
    "y_mean = np.mean(y_test)\n",
    "\n",
    "ss_res = np.sum((y_test - y_pred) ** 2)\n",
    "ss_tot = np.sum((y_test - y_mean) ** 2)\n",
    "\n",
    "r_squared = 1 - (ss_res / ss_tot)\n",
    "\n",
    "print(\"R^2 Score:\", r_squared)\n"
   ]
  },
  {
   "cell_type": "code",
   "execution_count": 18,
   "metadata": {},
   "outputs": [
    {
     "data": {
      "image/png": "[encoded data removed]",
      "text/plain": [
       "<Figure size 1000x600 with 1 Axes>"
      ]
     },
     "metadata": {},
     "output_type": "display_data"
    }
   ],
   "source": [
    "plt.figure(figsize=(10, 6))\n",
    "plt.scatter(y_test, y_pred, alpha=0.7, color='blue')\n",
    "plt.plot([y_test.min(), y_test.max()], [y_test.min(), y_test.max()], color='red',linestyle='--')\n",
    "\n",
    "plt.xlabel('Actual Closing Price')\n",
    "plt.ylabel('Predicted Closing Price')\n",
    "plt.title('Actual vs Predicted Closing Price ')\n",
    "plt.show()"
   ]
  },
  {
   "cell_type": "markdown",
   "metadata": {},
   "source": [
    "New Equation (With Gradient Descent & regularization):"
   ]
  },
  {
   "cell_type": "code",
   "execution_count": 19,
   "metadata": {},
   "outputs": [
    {
     "name": "stdout",
     "output_type": "stream",
     "text": [
      "Optimal weights: [ 22.61595269 -10.46331877]\n",
      "Optimal biases: 149.59988125333072\n"
     ]
    }
   ],
   "source": [
    "w = np.zeros(x_train_reduced.shape[1])\n",
    "b = 0\n",
    "LR = 0.01\n",
    "lambda_l1 = 0.00001\n",
    "lambda_l2 = 0.00001\n",
    "n = len(x_train_reduced)\n",
    "iterations = 1000\n",
    "for _ in range(iterations):\n",
    "    y_pred2 = x_train_reduced @ w + b\n",
    "\n",
    "    dw= (-2/n) * x_train_reduced.T @ (y_train - y_pred2) + lambda_l1 * np.sign(w) + 2 * lambda_l2 * w\n",
    "    db = (-2/n) * np.sum(y_train - y_pred2)\n",
    "\n",
    "    w -= LR * dw\n",
    "    b -= LR * db\n",
    "print(f\"Optimal weights: {w}\")\n",
    "print(f\"Optimal biases: {b}\")"
   ]
  },
  {
   "cell_type": "markdown",
   "metadata": {},
   "source": [
    "Here we set a random weight and biases and we go through \"n\" amount of iterations to give us the most optimal weight and bias. \n",
    "\n",
    "For Regularization, I expirmented by changing lambda1 and lambda2 and I concluded that when I did 0.01, it underfitted my weights results in huge percentage error. 0.0001 made my error a lot less so I'm sticking with this."
   ]
  },
  {
   "cell_type": "code",
   "execution_count": 20,
   "metadata": {},
   "outputs": [
    {
     "name": "stdout",
     "output_type": "stream",
     "text": [
      "Mean Squared Error using Gradient Descent: 1.5575989591657822\n"
     ]
    }
   ],
   "source": [
    "y_test_pred = x_test_reduced @ w + b\n",
    "test_mse = np.mean((y_test - y_test_pred) ** 2)\n",
    "print(f\"Mean Squared Error using Gradient Descent: {test_mse}\")"
   ]
  },
  {
   "cell_type": "markdown",
   "metadata": {},
   "source": [
    "Let's compare the base mse to the optimized mse."
   ]
  },
  {
   "cell_type": "code",
   "execution_count": 21,
   "metadata": {},
   "outputs": [
    {
     "name": "stdout",
     "output_type": "stream",
     "text": [
      "Baseline RMSE: 1.2480458102318601\n",
      "Optimized RMSE: 1.2480380439577081\n"
     ]
    }
   ],
   "source": [
    "base_rmse = np.sqrt(mse)\n",
    "optimized_rmse = np.sqrt(test_mse)\n",
    "\n",
    "print(f\"Baseline RMSE: {base_rmse}\")\n",
    "print(f\"Optimized RMSE: {optimized_rmse}\")"
   ]
  },
  {
   "cell_type": "code",
   "execution_count": 22,
   "metadata": {},
   "outputs": [
    {
     "name": "stdout",
     "output_type": "stream",
     "text": [
      "Relative Error of Base, Range: 0.006109318381854997\n",
      "Relative Error of Optimized, Range: 0.0061092803651082985\n",
      "Relative Error of Base, STDEV: 0.029944467249682437\n",
      "Relative Error of Optimized, STDEV: 0.029944280912818765\n"
     ]
    }
   ],
   "source": [
    "relative_error_base_range = base_rmse / range_y\n",
    "relative_error_opt_range = optimized_rmse / range_y\n",
    "relative_error_base_std = base_rmse / std_y\n",
    "relative_error_opt_std = optimized_rmse / std_y\n",
    "\n",
    "print(f\"Relative Error of Base, Range: {relative_error_base_range}\")\n",
    "print(f\"Relative Error of Optimized, Range: {relative_error_opt_range}\")\n",
    "print(f\"Relative Error of Base, STDEV: {relative_error_base_std}\")\n",
    "print(f\"Relative Error of Optimized, STDEV: {relative_error_opt_std}\")"
   ]
  },
  {
   "cell_type": "code",
   "execution_count": 23,
   "metadata": {},
   "outputs": [
    {
     "name": "stdout",
     "output_type": "stream",
     "text": [
      "Percentage Improvement: 0.00%\n"
     ]
    }
   ],
   "source": [
    "percentage_improv = ((mse - test_mse) / mse) * 100\n",
    "print(f\"Percentage Improvement: {percentage_improv:.2f}%\")"
   ]
  },
  {
   "cell_type": "markdown",
   "metadata": {},
   "source": [
    "Evaluation:"
   ]
  },
  {
   "cell_type": "code",
   "execution_count": 24,
   "metadata": {},
   "outputs": [],
   "source": [
    "from sklearn.linear_model import LinearRegression\n",
    "from sklearn.model_selection import train_test_split\n",
    "from sklearn.metrics import mean_squared_error, r2_score"
   ]
  },
  {
   "cell_type": "code",
   "execution_count": 25,
   "metadata": {},
   "outputs": [],
   "source": [
    "data['Returns_AAPL'] = data['Close_AAPL'].pct_change()\n",
    "data.dropna(inplace=True)\n",
    "X2= data[['Open_AAPL', 'High_AAPL', 'Low_AAPL', 'Volume_AAPL']]\n",
    "y2 = data['Close_AAPL']"
   ]
  },
  {
   "cell_type": "code",
   "execution_count": 26,
   "metadata": {},
   "outputs": [
    {
     "data": {
      "text/html": [
       "<style>#sk-container-id-1 {\n",
       "  /* Definition of color scheme common for light and dark mode */\n",
       "  --sklearn-color-text: #000;\n",
       "  --sklearn-color-text-muted: #666;\n",
       "  --sklearn-color-line: gray;\n",
       "  /* Definition of color scheme for unfitted estimators */\n",
       "  --sklearn-color-unfitted-level-0: #fff5e6;\n",
       "  --sklearn-color-unfitted-level-1: #f6e4d2;\n",
       "  --sklearn-color-unfitted-level-2: #ffe0b3;\n",
       "  --sklearn-color-unfitted-level-3: chocolate;\n",
       "  /* Definition of color scheme for fitted estimators */\n",
       "  --sklearn-color-fitted-level-0: #f0f8ff;\n",
       "  --sklearn-color-fitted-level-1: #d4ebff;\n",
       "  --sklearn-color-fitted-level-2: #b3dbfd;\n",
       "  --sklearn-color-fitted-level-3: cornflowerblue;\n",
       "\n",
       "  /* Specific color for light theme */\n",
       "  --sklearn-color-text-on-default-background: var(--sg-text-color, var(--theme-code-foreground, var(--jp-content-font-color1, black)));\n",
       "  --sklearn-color-background: var(--sg-background-color, var(--theme-background, var(--jp-layout-color0, white)));\n",
       "  --sklearn-color-border-box: var(--sg-text-color, var(--theme-code-foreground, var(--jp-content-font-color1, black)));\n",
       "  --sklearn-color-icon: #696969;\n",
       "\n",
       "  @media (prefers-color-scheme: dark) {\n",
       "    /* Redefinition of color scheme for dark theme */\n",
       "    --sklearn-color-text-on-default-background: var(--sg-text-color, var(--theme-code-foreground, var(--jp-content-font-color1, white)));\n",
       "    --sklearn-color-background: var(--sg-background-color, var(--theme-background, var(--jp-layout-color0, #111)));\n",
       "    --sklearn-color-border-box: var(--sg-text-color, var(--theme-code-foreground, var(--jp-content-font-color1, white)));\n",
       "    --sklearn-color-icon: #878787;\n",
       "  }\n",
       "}\n",
       "\n",
       "#sk-container-id-1 {\n",
       "  color: var(--sklearn-color-text);\n",
       "}\n",
       "\n",
       "#sk-container-id-1 pre {\n",
       "  padding: 0;\n",
       "}\n",
       "\n",
       "#sk-container-id-1 input.sk-hidden--visually {\n",
       "  border: 0;\n",
       "  clip: rect(1px 1px 1px 1px);\n",
       "  clip: rect(1px, 1px, 1px, 1px);\n",
       "  height: 1px;\n",
       "  margin: -1px;\n",
       "  overflow: hidden;\n",
       "  padding: 0;\n",
       "  position: absolute;\n",
       "  width: 1px;\n",
       "}\n",
       "\n",
       "#sk-container-id-1 div.sk-dashed-wrapped {\n",
       "  border: 1px dashed var(--sklearn-color-line);\n",
       "  margin: 0 0.4em 0.5em 0.4em;\n",
       "  box-sizing: border-box;\n",
       "  padding-bottom: 0.4em;\n",
       "  background-color: var(--sklearn-color-background);\n",
       "}\n",
       "\n",
       "#sk-container-id-1 div.sk-container {\n",
       "  /* jupyter's `normalize.less` sets `[hidden] { display: none; }`\n",
       "     but bootstrap.min.css set `[hidden] { display: none !important; }`\n",
       "     so we also need the `!important` here to be able to override the\n",
       "     default hidden behavior on the sphinx rendered scikit-learn.org.\n",
       "     See: https://github.com/scikit-learn/scikit-learn/issues/21755 */\n",
       "  display: inline-block !important;\n",
       "  position: relative;\n",
       "}\n",
       "\n",
       "#sk-container-id-1 div.sk-text-repr-fallback {\n",
       "  display: none;\n",
       "}\n",
       "\n",
       "div.sk-parallel-item,\n",
       "div.sk-serial,\n",
       "div.sk-item {\n",
       "  /* draw centered vertical line to link estimators */\n",
       "  background-image: linear-gradient(var(--sklearn-color-text-on-default-background), var(--sklearn-color-text-on-default-background));\n",
       "  background-size: 2px 100%;\n",
       "  background-repeat: no-repeat;\n",
       "  background-position: center center;\n",
       "}\n",
       "\n",
       "/* Parallel-specific style estimator block */\n",
       "\n",
       "#sk-container-id-1 div.sk-parallel-item::after {\n",
       "  content: \"\";\n",
       "  width: 100%;\n",
       "  border-bottom: 2px solid var(--sklearn-color-text-on-default-background);\n",
       "  flex-grow: 1;\n",
       "}\n",
       "\n",
       "#sk-container-id-1 div.sk-parallel {\n",
       "  display: flex;\n",
       "  align-items: stretch;\n",
       "  justify-content: center;\n",
       "  background-color: var(--sklearn-color-background);\n",
       "  position: relative;\n",
       "}\n",
       "\n",
       "#sk-container-id-1 div.sk-parallel-item {\n",
       "  display: flex;\n",
       "  flex-direction: column;\n",
       "}\n",
       "\n",
       "#sk-container-id-1 div.sk-parallel-item:first-child::after {\n",
       "  align-self: flex-end;\n",
       "  width: 50%;\n",
       "}\n",
       "\n",
       "#sk-container-id-1 div.sk-parallel-item:last-child::after {\n",
       "  align-self: flex-start;\n",
       "  width: 50%;\n",
       "}\n",
       "\n",
       "#sk-container-id-1 div.sk-parallel-item:only-child::after {\n",
       "  width: 0;\n",
       "}\n",
       "\n",
       "/* Serial-specific style estimator block */\n",
       "\n",
       "#sk-container-id-1 div.sk-serial {\n",
       "  display: flex;\n",
       "  flex-direction: column;\n",
       "  align-items: center;\n",
       "  background-color: var(--sklearn-color-background);\n",
       "  padding-right: 1em;\n",
       "  padding-left: 1em;\n",
       "}\n",
       "\n",
       "\n",
       "/* Toggleable style: style used for estimator/Pipeline/ColumnTransformer box that is\n",
       "clickable and can be expanded/collapsed.\n",
       "- Pipeline and ColumnTransformer use this feature and define the default style\n",
       "- Estimators will overwrite some part of the style using the `sk-estimator` class\n",
       "*/\n",
       "\n",
       "/* Pipeline and ColumnTransformer style (default) */\n",
       "\n",
       "#sk-container-id-1 div.sk-toggleable {\n",
       "  /* Default theme specific background. It is overwritten whether we have a\n",
       "  specific estimator or a Pipeline/ColumnTransformer */\n",
       "  background-color: var(--sklearn-color-background);\n",
       "}\n",
       "\n",
       "/* Toggleable label */\n",
       "#sk-container-id-1 label.sk-toggleable__label {\n",
       "  cursor: pointer;\n",
       "  display: flex;\n",
       "  width: 100%;\n",
       "  margin-bottom: 0;\n",
       "  padding: 0.5em;\n",
       "  box-sizing: border-box;\n",
       "  text-align: center;\n",
       "  align-items: start;\n",
       "  justify-content: space-between;\n",
       "  gap: 0.5em;\n",
       "}\n",
       "\n",
       "#sk-container-id-1 label.sk-toggleable__label .caption {\n",
       "  font-size: 0.6rem;\n",
       "  font-weight: lighter;\n",
       "  color: var(--sklearn-color-text-muted);\n",
       "}\n",
       "\n",
       "#sk-container-id-1 label.sk-toggleable__label-arrow:before {\n",
       "  /* Arrow on the left of the label */\n",
       "  content: \"▸\";\n",
       "  float: left;\n",
       "  margin-right: 0.25em;\n",
       "  color: var(--sklearn-color-icon);\n",
       "}\n",
       "\n",
       "#sk-container-id-1 label.sk-toggleable__label-arrow:hover:before {\n",
       "  color: var(--sklearn-color-text);\n",
       "}\n",
       "\n",
       "/* Toggleable content - dropdown */\n",
       "\n",
       "#sk-container-id-1 div.sk-toggleable__content {\n",
       "  max-height: 0;\n",
       "  max-width: 0;\n",
       "  overflow: hidden;\n",
       "  text-align: left;\n",
       "  /* unfitted */\n",
       "  background-color: var(--sklearn-color-unfitted-level-0);\n",
       "}\n",
       "\n",
       "#sk-container-id-1 div.sk-toggleable__content.fitted {\n",
       "  /* fitted */\n",
       "  background-color: var(--sklearn-color-fitted-level-0);\n",
       "}\n",
       "\n",
       "#sk-container-id-1 div.sk-toggleable__content pre {\n",
       "  margin: 0.2em;\n",
       "  border-radius: 0.25em;\n",
       "  color: var(--sklearn-color-text);\n",
       "  /* unfitted */\n",
       "  background-color: var(--sklearn-color-unfitted-level-0);\n",
       "}\n",
       "\n",
       "#sk-container-id-1 div.sk-toggleable__content.fitted pre {\n",
       "  /* unfitted */\n",
       "  background-color: var(--sklearn-color-fitted-level-0);\n",
       "}\n",
       "\n",
       "#sk-container-id-1 input.sk-toggleable__control:checked~div.sk-toggleable__content {\n",
       "  /* Expand drop-down */\n",
       "  max-height: 200px;\n",
       "  max-width: 100%;\n",
       "  overflow: auto;\n",
       "}\n",
       "\n",
       "#sk-container-id-1 input.sk-toggleable__control:checked~label.sk-toggleable__label-arrow:before {\n",
       "  content: \"▾\";\n",
       "}\n",
       "\n",
       "/* Pipeline/ColumnTransformer-specific style */\n",
       "\n",
       "#sk-container-id-1 div.sk-label input.sk-toggleable__control:checked~label.sk-toggleable__label {\n",
       "  color: var(--sklearn-color-text);\n",
       "  background-color: var(--sklearn-color-unfitted-level-2);\n",
       "}\n",
       "\n",
       "#sk-container-id-1 div.sk-label.fitted input.sk-toggleable__control:checked~label.sk-toggleable__label {\n",
       "  background-color: var(--sklearn-color-fitted-level-2);\n",
       "}\n",
       "\n",
       "/* Estimator-specific style */\n",
       "\n",
       "/* Colorize estimator box */\n",
       "#sk-container-id-1 div.sk-estimator input.sk-toggleable__control:checked~label.sk-toggleable__label {\n",
       "  /* unfitted */\n",
       "  background-color: var(--sklearn-color-unfitted-level-2);\n",
       "}\n",
       "\n",
       "#sk-container-id-1 div.sk-estimator.fitted input.sk-toggleable__control:checked~label.sk-toggleable__label {\n",
       "  /* fitted */\n",
       "  background-color: var(--sklearn-color-fitted-level-2);\n",
       "}\n",
       "\n",
       "#sk-container-id-1 div.sk-label label.sk-toggleable__label,\n",
       "#sk-container-id-1 div.sk-label label {\n",
       "  /* The background is the default theme color */\n",
       "  color: var(--sklearn-color-text-on-default-background);\n",
       "}\n",
       "\n",
       "/* On hover, darken the color of the background */\n",
       "#sk-container-id-1 div.sk-label:hover label.sk-toggleable__label {\n",
       "  color: var(--sklearn-color-text);\n",
       "  background-color: var(--sklearn-color-unfitted-level-2);\n",
       "}\n",
       "\n",
       "/* Label box, darken color on hover, fitted */\n",
       "#sk-container-id-1 div.sk-label.fitted:hover label.sk-toggleable__label.fitted {\n",
       "  color: var(--sklearn-color-text);\n",
       "  background-color: var(--sklearn-color-fitted-level-2);\n",
       "}\n",
       "\n",
       "/* Estimator label */\n",
       "\n",
       "#sk-container-id-1 div.sk-label label {\n",
       "  font-family: monospace;\n",
       "  font-weight: bold;\n",
       "  display: inline-block;\n",
       "  line-height: 1.2em;\n",
       "}\n",
       "\n",
       "#sk-container-id-1 div.sk-label-container {\n",
       "  text-align: center;\n",
       "}\n",
       "\n",
       "/* Estimator-specific */\n",
       "#sk-container-id-1 div.sk-estimator {\n",
       "  font-family: monospace;\n",
       "  border: 1px dotted var(--sklearn-color-border-box);\n",
       "  border-radius: 0.25em;\n",
       "  box-sizing: border-box;\n",
       "  margin-bottom: 0.5em;\n",
       "  /* unfitted */\n",
       "  background-color: var(--sklearn-color-unfitted-level-0);\n",
       "}\n",
       "\n",
       "#sk-container-id-1 div.sk-estimator.fitted {\n",
       "  /* fitted */\n",
       "  background-color: var(--sklearn-color-fitted-level-0);\n",
       "}\n",
       "\n",
       "/* on hover */\n",
       "#sk-container-id-1 div.sk-estimator:hover {\n",
       "  /* unfitted */\n",
       "  background-color: var(--sklearn-color-unfitted-level-2);\n",
       "}\n",
       "\n",
       "#sk-container-id-1 div.sk-estimator.fitted:hover {\n",
       "  /* fitted */\n",
       "  background-color: var(--sklearn-color-fitted-level-2);\n",
       "}\n",
       "\n",
       "/* Specification for estimator info (e.g. \"i\" and \"?\") */\n",
       "\n",
       "/* Common style for \"i\" and \"?\" */\n",
       "\n",
       ".sk-estimator-doc-link,\n",
       "a:link.sk-estimator-doc-link,\n",
       "a:visited.sk-estimator-doc-link {\n",
       "  float: right;\n",
       "  font-size: smaller;\n",
       "  line-height: 1em;\n",
       "  font-family: monospace;\n",
       "  background-color: var(--sklearn-color-background);\n",
       "  border-radius: 1em;\n",
       "  height: 1em;\n",
       "  width: 1em;\n",
       "  text-decoration: none !important;\n",
       "  margin-left: 0.5em;\n",
       "  text-align: center;\n",
       "  /* unfitted */\n",
       "  border: var(--sklearn-color-unfitted-level-1) 1pt solid;\n",
       "  color: var(--sklearn-color-unfitted-level-1);\n",
       "}\n",
       "\n",
       ".sk-estimator-doc-link.fitted,\n",
       "a:link.sk-estimator-doc-link.fitted,\n",
       "a:visited.sk-estimator-doc-link.fitted {\n",
       "  /* fitted */\n",
       "  border: var(--sklearn-color-fitted-level-1) 1pt solid;\n",
       "  color: var(--sklearn-color-fitted-level-1);\n",
       "}\n",
       "\n",
       "/* On hover */\n",
       "div.sk-estimator:hover .sk-estimator-doc-link:hover,\n",
       ".sk-estimator-doc-link:hover,\n",
       "div.sk-label-container:hover .sk-estimator-doc-link:hover,\n",
       ".sk-estimator-doc-link:hover {\n",
       "  /* unfitted */\n",
       "  background-color: var(--sklearn-color-unfitted-level-3);\n",
       "  color: var(--sklearn-color-background);\n",
       "  text-decoration: none;\n",
       "}\n",
       "\n",
       "div.sk-estimator.fitted:hover .sk-estimator-doc-link.fitted:hover,\n",
       ".sk-estimator-doc-link.fitted:hover,\n",
       "div.sk-label-container:hover .sk-estimator-doc-link.fitted:hover,\n",
       ".sk-estimator-doc-link.fitted:hover {\n",
       "  /* fitted */\n",
       "  background-color: var(--sklearn-color-fitted-level-3);\n",
       "  color: var(--sklearn-color-background);\n",
       "  text-decoration: none;\n",
       "}\n",
       "\n",
       "/* Span, style for the box shown on hovering the info icon */\n",
       ".sk-estimator-doc-link span {\n",
       "  display: none;\n",
       "  z-index: 9999;\n",
       "  position: relative;\n",
       "  font-weight: normal;\n",
       "  right: .2ex;\n",
       "  padding: .5ex;\n",
       "  margin: .5ex;\n",
       "  width: min-content;\n",
       "  min-width: 20ex;\n",
       "  max-width: 50ex;\n",
       "  color: var(--sklearn-color-text);\n",
       "  box-shadow: 2pt 2pt 4pt #999;\n",
       "  /* unfitted */\n",
       "  background: var(--sklearn-color-unfitted-level-0);\n",
       "  border: .5pt solid var(--sklearn-color-unfitted-level-3);\n",
       "}\n",
       "\n",
       ".sk-estimator-doc-link.fitted span {\n",
       "  /* fitted */\n",
       "  background: var(--sklearn-color-fitted-level-0);\n",
       "  border: var(--sklearn-color-fitted-level-3);\n",
       "}\n",
       "\n",
       ".sk-estimator-doc-link:hover span {\n",
       "  display: block;\n",
       "}\n",
       "\n",
       "/* \"?\"-specific style due to the `<a>` HTML tag */\n",
       "\n",
       "#sk-container-id-1 a.estimator_doc_link {\n",
       "  float: right;\n",
       "  font-size: 1rem;\n",
       "  line-height: 1em;\n",
       "  font-family: monospace;\n",
       "  background-color: var(--sklearn-color-background);\n",
       "  border-radius: 1rem;\n",
       "  height: 1rem;\n",
       "  width: 1rem;\n",
       "  text-decoration: none;\n",
       "  /* unfitted */\n",
       "  color: var(--sklearn-color-unfitted-level-1);\n",
       "  border: var(--sklearn-color-unfitted-level-1) 1pt solid;\n",
       "}\n",
       "\n",
       "#sk-container-id-1 a.estimator_doc_link.fitted {\n",
       "  /* fitted */\n",
       "  border: var(--sklearn-color-fitted-level-1) 1pt solid;\n",
       "  color: var(--sklearn-color-fitted-level-1);\n",
       "}\n",
       "\n",
       "/* On hover */\n",
       "#sk-container-id-1 a.estimator_doc_link:hover {\n",
       "  /* unfitted */\n",
       "  background-color: var(--sklearn-color-unfitted-level-3);\n",
       "  color: var(--sklearn-color-background);\n",
       "  text-decoration: none;\n",
       "}\n",
       "\n",
       "#sk-container-id-1 a.estimator_doc_link.fitted:hover {\n",
       "  /* fitted */\n",
       "  background-color: var(--sklearn-color-fitted-level-3);\n",
       "}\n",
       "</style><div id=\"sk-container-id-1\" class=\"sk-top-container\"><div class=\"sk-text-repr-fallback\"><pre>LinearRegression()</pre><b>In a Jupyter environment, please rerun this cell to show the HTML representation or trust the notebook. <br />On GitHub, the HTML representation is unable to render, please try loading this page with nbviewer.org.</b></div><div class=\"sk-container\" hidden><div class=\"sk-item\"><div class=\"sk-estimator fitted sk-toggleable\"><input class=\"sk-toggleable__control sk-hidden--visually\" id=\"sk-estimator-id-1\" type=\"checkbox\" checked><label for=\"sk-estimator-id-1\" class=\"sk-toggleable__label fitted sk-toggleable__label-arrow\"><div><div>LinearRegression</div></div><div><a class=\"sk-estimator-doc-link fitted\" rel=\"noreferrer\" target=\"_blank\" href=\"https://scikit-learn.org/1.6/modules/generated/sklearn.linear_model.LinearRegression.html\">?<span>Documentation for LinearRegression</span></a><span class=\"sk-estimator-doc-link fitted\">i<span>Fitted</span></span></div></label><div class=\"sk-toggleable__content fitted\"><pre>LinearRegression()</pre></div> </div></div></div></div>"
      ],
      "text/plain": [
       "LinearRegression()"
      ]
     },
     "execution_count": 26,
     "metadata": {},
     "output_type": "execute_result"
    }
   ],
   "source": [
    "X_train2, X_test2, y_train2, y_test2 = train_test_split(X2, y2, test_size=0.2, random_state=42)\n",
    "model = LinearRegression()\n",
    "model.fit(X_train2, y_train2)"
   ]
  },
  {
   "cell_type": "code",
   "execution_count": 27,
   "metadata": {},
   "outputs": [
    {
     "name": "stdout",
     "output_type": "stream",
     "text": [
      "Mean Squared Error: 1.01\n",
      "R^2 Score: 1.00\n"
     ]
    }
   ],
   "source": [
    "y_pred2 = model.predict(X_test2)\n",
    "mse_modeled = mean_squared_error(y_test2, y_pred2)\n",
    "r2_modeled = r2_score(y_test2, y_pred2)\n",
    "print(f'Mean Squared Error: {mse_modeled:.2f}')\n",
    "print(f'R^2 Score: {r2_modeled:.2f}')"
   ]
  },
  {
   "cell_type": "code",
   "execution_count": 28,
   "metadata": {},
   "outputs": [
    {
     "name": "stdout",
     "output_type": "stream",
     "text": [
      "              Coefficient\n",
      "Open_AAPL   -6.024007e-01\n",
      "High_AAPL    8.297779e-01\n",
      "Low_AAPL     7.722258e-01\n",
      "Volume_AAPL -7.852907e-10\n"
     ]
    }
   ],
   "source": [
    "coefficients = pd.DataFrame(model.coef_, index=X2.columns, columns=['Coefficient'])\n",
    "print(coefficients)"
   ]
  },
  {
   "cell_type": "markdown",
   "metadata": {},
   "source": [
    "Conclusion:"
   ]
  },
  {
   "cell_type": "markdown",
   "metadata": {},
   "source": [
    "In this project, I implemented a linear regression model from scratch to predict Apple Inc.'s stock closing prices using historical financial data. The implementation involved several steps, including preprocessing the data with Principal Component Analysis (PCA), fitting the model using both the normal equation and gradient descent, and evaluating the model's performance using metrics like Mean Squared Error and R^2 Score. To validate my results, I compared my custom implementation with sklearn's Linear Regression."
   ]
  },
  {
   "cell_type": "markdown",
   "metadata": {},
   "source": [
    "Steps:"
   ]
  },
  {
   "cell_type": "markdown",
   "metadata": {},
   "source": [
    "1. Data Preprocessing -\n",
    "    I downloaded historial stock data for AAPL using the yfinance library. To reduce dimensionality, I appled PCA after standardizing the features using z-score normalization. This reduces the feature space to two components, which captures the most variance in my data.\n",
    "2. Model Fitting - \n",
    "    Using preprocessed data, I implemented linear regression in two ways:\n",
    "        Normal Equation: Closed form solution to compute optimate weight and biases. \n",
    "        Gradient Descent: Optimization method that incorporates L1 (Lasso) and (Ridge) regularization to prevent overfitting.\n",
    "3. Evaluation - \n",
    "    I evaluated the model's performance using Mean Squared Error and R^2 score. I also created a visualization which showed the predicted vs actual closing prices to assess the model's predictive accuracy.\n",
    "4. Comparison - \n",
    "    To benchmark my custom implementation, I trained sklearn's LinearRegression model to the same dataset. However, I observed MSE between two implementations."
   ]
  },
  {
   "cell_type": "markdown",
   "metadata": {},
   "source": [
    "Why do the MSE differ?"
   ]
  },
  {
   "cell_type": "markdown",
   "metadata": {},
   "source": [
    "1. My custom implementation applies PCA to reduce the feature space but sklearn operates directly on the raw features.\n",
    "2. Feature scaling was another thing which I standardized the data where sklearn doesn't require it.\n",
    "3. Optimization and Regularization was anothe thing which sklearn doesn't use."
   ]
  },
  {
   "cell_type": "markdown",
   "metadata": {},
   "source": [
    "Insights Gained:"
   ]
  },
  {
   "cell_type": "markdown",
   "metadata": {},
   "source": [
    "PCA: this was my first time reducing a dimensionality and simplifying the feature space.\n",
    "Regularization: Incorporating L1 and L2 helped mitigate overfitting and improved the model's generation ability.\n",
    "Gradient Descent: Implementing gradient descent from scratch deepened my understanding of optimization because I only wrote notes on it and using terms like learning rate and regularization strength made me more knowledgeable.\n",
    "MSE and R^2: Evaluating the model allowed me quantify the predictive accuracy and compare it to sklearn's implementation"
   ]
  },
  {
   "cell_type": "markdown",
   "metadata": {},
   "source": [
    "Future?:"
   ]
  },
  {
   "cell_type": "markdown",
   "metadata": {},
   "source": [
    "To improve the alignment between my custom implementation and sklearn I could,\n",
    "\n",
    "Apply PCA for both implementations\n",
    "Experiment with different preprocessing techniques"
   ]
  },
  {
   "cell_type": "markdown",
   "metadata": {},
   "source": [
    "Final Thoughts:"
   ]
  },
  {
   "cell_type": "markdown",
   "metadata": {},
   "source": [
    "This project was hard to start but once I understood the concepts on linear regression, it slowely became more better. This project demonstrates the importance of understanding the mechanics of machine learning algorithms and the impact of preprocessing, optimization, and evaluation choices. By addressing the differences in my data for future work, I can refine my implementations and achieve better alignment with the library solutions."
   ]
  }
 ],
 "metadata": {
  "kernelspec": {
   "display_name": "base",
   "language": "python",
   "name": "python3"
  },
  "language_info": {
   "codemirror_mode": {
    "name": "ipython",
    "version": 3
   },
   "file_extension": ".py",
   "mimetype": "text/x-python",
   "name": "python",
   "nbconvert_exporter": "python",
   "pygments_lexer": "ipython3",
   "version": "3.12.4"
  }
 },
 "nbformat": 4,
 "nbformat_minor": 2
}
